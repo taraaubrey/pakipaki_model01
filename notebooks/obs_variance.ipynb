{
 "cells": [
  {
   "cell_type": "code",
   "execution_count": null,
   "id": "81ef0eb5",
   "metadata": {},
   "outputs": [],
   "source": [
    "# open awanui as df\n",
    "import pandas as pd"
   ]
  },
  {
   "cell_type": "markdown",
   "id": "09ab6b21",
   "metadata": {},
   "source": [
    "# DRN variance (Awanui)"
   ]
  },
  {
   "cell_type": "code",
   "execution_count": null,
   "id": "95298764",
   "metadata": {},
   "outputs": [],
   "source": [
    "\n",
    "AWANUI = r\"C:\\Users\\tfo46\\OneDrive - University of Canterbury\\Tara_PhD\\c_PhD\\c_Data\\a_source\\sw_surface_water\\HBRC_sw\\river-flow-for-awanui-st.csv\"\n",
    "df = pd.read_csv(AWANUI)"
   ]
  },
  {
   "cell_type": "code",
   "execution_count": 12,
   "id": "7e70a165",
   "metadata": {},
   "outputs": [],
   "source": [
    "# calulate the mean and variance of the flow for each month\n",
    "df['date'] = pd.to_datetime(df['Awanui Stream at Flume (x)'])\n",
    "df['month'] = df['date'].dt.month\n",
    "df['year'] = df['date'].dt.year\n",
    "monthly_stats = df.groupby(['month','year'])['Awanui Stream at Flume (y)'].agg(['mean', 'var']).reset_index()"
   ]
  },
  {
   "cell_type": "code",
   "execution_count": 13,
   "id": "cf8e3efe",
   "metadata": {},
   "outputs": [
    {
     "data": {
      "text/html": [
       "<div>\n",
       "<style scoped>\n",
       "    .dataframe tbody tr th:only-of-type {\n",
       "        vertical-align: middle;\n",
       "    }\n",
       "\n",
       "    .dataframe tbody tr th {\n",
       "        vertical-align: top;\n",
       "    }\n",
       "\n",
       "    .dataframe thead th {\n",
       "        text-align: right;\n",
       "    }\n",
       "</style>\n",
       "<table border=\"1\" class=\"dataframe\">\n",
       "  <thead>\n",
       "    <tr style=\"text-align: right;\">\n",
       "      <th></th>\n",
       "      <th>month</th>\n",
       "      <th>year</th>\n",
       "      <th>mean</th>\n",
       "      <th>var</th>\n",
       "    </tr>\n",
       "  </thead>\n",
       "  <tbody>\n",
       "    <tr>\n",
       "      <th>0</th>\n",
       "      <td>1</td>\n",
       "      <td>2009</td>\n",
       "      <td>46.066825</td>\n",
       "      <td>3.622310e+02</td>\n",
       "    </tr>\n",
       "    <tr>\n",
       "      <th>1</th>\n",
       "      <td>1</td>\n",
       "      <td>2010</td>\n",
       "      <td>205.603306</td>\n",
       "      <td>9.962500e+03</td>\n",
       "    </tr>\n",
       "    <tr>\n",
       "      <th>2</th>\n",
       "      <td>1</td>\n",
       "      <td>2011</td>\n",
       "      <td>336.881165</td>\n",
       "      <td>2.297797e+05</td>\n",
       "    </tr>\n",
       "    <tr>\n",
       "      <th>3</th>\n",
       "      <td>1</td>\n",
       "      <td>2012</td>\n",
       "      <td>966.641357</td>\n",
       "      <td>1.660695e+06</td>\n",
       "    </tr>\n",
       "    <tr>\n",
       "      <th>4</th>\n",
       "      <td>1</td>\n",
       "      <td>2013</td>\n",
       "      <td>43.112739</td>\n",
       "      <td>4.391601e+01</td>\n",
       "    </tr>\n",
       "    <tr>\n",
       "      <th>...</th>\n",
       "      <td>...</td>\n",
       "      <td>...</td>\n",
       "      <td>...</td>\n",
       "      <td>...</td>\n",
       "    </tr>\n",
       "    <tr>\n",
       "      <th>184</th>\n",
       "      <td>12</td>\n",
       "      <td>2020</td>\n",
       "      <td>492.712385</td>\n",
       "      <td>3.679462e+04</td>\n",
       "    </tr>\n",
       "    <tr>\n",
       "      <th>185</th>\n",
       "      <td>12</td>\n",
       "      <td>2021</td>\n",
       "      <td>406.136488</td>\n",
       "      <td>5.946786e+04</td>\n",
       "    </tr>\n",
       "    <tr>\n",
       "      <th>186</th>\n",
       "      <td>12</td>\n",
       "      <td>2022</td>\n",
       "      <td>2241.258343</td>\n",
       "      <td>4.344943e+06</td>\n",
       "    </tr>\n",
       "    <tr>\n",
       "      <th>187</th>\n",
       "      <td>12</td>\n",
       "      <td>2023</td>\n",
       "      <td>693.592001</td>\n",
       "      <td>6.156086e+04</td>\n",
       "    </tr>\n",
       "    <tr>\n",
       "      <th>188</th>\n",
       "      <td>12</td>\n",
       "      <td>2024</td>\n",
       "      <td>75.654441</td>\n",
       "      <td>9.765727e+02</td>\n",
       "    </tr>\n",
       "  </tbody>\n",
       "</table>\n",
       "<p>189 rows × 4 columns</p>\n",
       "</div>"
      ],
      "text/plain": [
       "     month  year         mean           var\n",
       "0        1  2009    46.066825  3.622310e+02\n",
       "1        1  2010   205.603306  9.962500e+03\n",
       "2        1  2011   336.881165  2.297797e+05\n",
       "3        1  2012   966.641357  1.660695e+06\n",
       "4        1  2013    43.112739  4.391601e+01\n",
       "..     ...   ...          ...           ...\n",
       "184     12  2020   492.712385  3.679462e+04\n",
       "185     12  2021   406.136488  5.946786e+04\n",
       "186     12  2022  2241.258343  4.344943e+06\n",
       "187     12  2023   693.592001  6.156086e+04\n",
       "188     12  2024    75.654441  9.765727e+02\n",
       "\n",
       "[189 rows x 4 columns]"
      ]
     },
     "execution_count": 13,
     "metadata": {},
     "output_type": "execute_result"
    }
   ],
   "source": [
    "monthly_stats"
   ]
  },
  {
   "cell_type": "code",
   "execution_count": 26,
   "id": "15ae8235",
   "metadata": {},
   "outputs": [
    {
     "data": {
      "text/plain": [
       "0    628898.583579\n",
       "Name: mean, dtype: float64"
      ]
     },
     "execution_count": 26,
     "metadata": {},
     "output_type": "execute_result"
    }
   ],
   "source": [
    "# variance of mean flow for Oct and Nov\n",
    "monthly_stats[monthly_stats['month'].isin([10, 11])].agg(['var']).reset_index()['mean']"
   ]
  },
  {
   "cell_type": "code",
   "execution_count": 11,
   "id": "1088997a",
   "metadata": {},
   "outputs": [
    {
     "data": {
      "text/html": [
       "<div>\n",
       "<style scoped>\n",
       "    .dataframe tbody tr th:only-of-type {\n",
       "        vertical-align: middle;\n",
       "    }\n",
       "\n",
       "    .dataframe tbody tr th {\n",
       "        vertical-align: top;\n",
       "    }\n",
       "\n",
       "    .dataframe thead th {\n",
       "        text-align: right;\n",
       "    }\n",
       "</style>\n",
       "<table border=\"1\" class=\"dataframe\">\n",
       "  <thead>\n",
       "    <tr style=\"text-align: right;\">\n",
       "      <th></th>\n",
       "      <th>index</th>\n",
       "      <th>Awanui Stream at Flume (y)</th>\n",
       "    </tr>\n",
       "  </thead>\n",
       "  <tbody>\n",
       "    <tr>\n",
       "      <th>0</th>\n",
       "      <td>mean</td>\n",
       "      <td>1.162080e+03</td>\n",
       "    </tr>\n",
       "    <tr>\n",
       "      <th>1</th>\n",
       "      <td>var</td>\n",
       "      <td>1.786373e+06</td>\n",
       "    </tr>\n",
       "  </tbody>\n",
       "</table>\n",
       "</div>"
      ],
      "text/plain": [
       "  index  Awanui Stream at Flume (y)\n",
       "0  mean                1.162080e+03\n",
       "1   var                1.786373e+06"
      ]
     },
     "execution_count": 11,
     "metadata": {},
     "output_type": "execute_result"
    }
   ],
   "source": [
    "# if month is 10 or 11 then calculate mean and variance frm grouped data\n",
    "df[df['month'].isin([10, 11])]['Awanui Stream at Flume (y)'].agg(['mean', 'var']).reset_index()"
   ]
  },
  {
   "cell_type": "markdown",
   "id": "d4ce9124",
   "metadata": {},
   "source": [
    "# Recharge variance"
   ]
  },
  {
   "cell_type": "code",
   "execution_count": 27,
   "id": "4f6eaf85",
   "metadata": {},
   "outputs": [],
   "source": [
    "RF = r\"C:\\Users\\tfo46\\OneDrive - University of Canterbury\\Tara_PhD\\c_PhD\\c_Data\\a_source\\clm_climate_data\\datahub\\3028__Rain__D.csv\"\n",
    "df = pd.read_csv(RF)"
   ]
  },
  {
   "cell_type": "code",
   "execution_count": 28,
   "id": "79d4a021",
   "metadata": {},
   "outputs": [
    {
     "data": {
      "text/html": [
       "<div>\n",
       "<style scoped>\n",
       "    .dataframe tbody tr th:only-of-type {\n",
       "        vertical-align: middle;\n",
       "    }\n",
       "\n",
       "    .dataframe tbody tr th {\n",
       "        vertical-align: top;\n",
       "    }\n",
       "\n",
       "    .dataframe thead th {\n",
       "        text-align: right;\n",
       "    }\n",
       "</style>\n",
       "<table border=\"1\" class=\"dataframe\">\n",
       "  <thead>\n",
       "    <tr style=\"text-align: right;\">\n",
       "      <th></th>\n",
       "      <th>Frequency [D/H/S]</th>\n",
       "      <th>Observation time UTC</th>\n",
       "      <th>Data Source</th>\n",
       "      <th>Rainfall [mm]</th>\n",
       "      <th>PERIOD [hrs]</th>\n",
       "    </tr>\n",
       "  </thead>\n",
       "  <tbody>\n",
       "    <tr>\n",
       "      <th>0</th>\n",
       "      <td>Daily</td>\n",
       "      <td>1917-03-01T21:00:00Z</td>\n",
       "      <td>D</td>\n",
       "      <td>0.0</td>\n",
       "      <td>24</td>\n",
       "    </tr>\n",
       "    <tr>\n",
       "      <th>1</th>\n",
       "      <td>Daily</td>\n",
       "      <td>1917-03-02T21:00:00Z</td>\n",
       "      <td>D</td>\n",
       "      <td>1.8</td>\n",
       "      <td>24</td>\n",
       "    </tr>\n",
       "    <tr>\n",
       "      <th>2</th>\n",
       "      <td>Daily</td>\n",
       "      <td>1917-03-03T21:00:00Z</td>\n",
       "      <td>D</td>\n",
       "      <td>1.0</td>\n",
       "      <td>24</td>\n",
       "    </tr>\n",
       "    <tr>\n",
       "      <th>3</th>\n",
       "      <td>Daily</td>\n",
       "      <td>1917-03-04T21:00:00Z</td>\n",
       "      <td>D</td>\n",
       "      <td>0.0</td>\n",
       "      <td>24</td>\n",
       "    </tr>\n",
       "    <tr>\n",
       "      <th>4</th>\n",
       "      <td>Daily</td>\n",
       "      <td>1917-03-05T21:00:00Z</td>\n",
       "      <td>D</td>\n",
       "      <td>1.0</td>\n",
       "      <td>24</td>\n",
       "    </tr>\n",
       "  </tbody>\n",
       "</table>\n",
       "</div>"
      ],
      "text/plain": [
       "  Frequency [D/H/S]  Observation time UTC Data Source  Rainfall [mm]  \\\n",
       "0             Daily  1917-03-01T21:00:00Z           D            0.0   \n",
       "1             Daily  1917-03-02T21:00:00Z           D            1.8   \n",
       "2             Daily  1917-03-03T21:00:00Z           D            1.0   \n",
       "3             Daily  1917-03-04T21:00:00Z           D            0.0   \n",
       "4             Daily  1917-03-05T21:00:00Z           D            1.0   \n",
       "\n",
       "   PERIOD [hrs]  \n",
       "0            24  \n",
       "1            24  \n",
       "2            24  \n",
       "3            24  \n",
       "4            24  "
      ]
     },
     "execution_count": 28,
     "metadata": {},
     "output_type": "execute_result"
    }
   ],
   "source": [
    "df.head()"
   ]
  },
  {
   "cell_type": "code",
   "execution_count": 31,
   "id": "3bd0bbcc",
   "metadata": {},
   "outputs": [
    {
     "data": {
      "text/html": [
       "<div>\n",
       "<style scoped>\n",
       "    .dataframe tbody tr th:only-of-type {\n",
       "        vertical-align: middle;\n",
       "    }\n",
       "\n",
       "    .dataframe tbody tr th {\n",
       "        vertical-align: top;\n",
       "    }\n",
       "\n",
       "    .dataframe thead th {\n",
       "        text-align: right;\n",
       "    }\n",
       "</style>\n",
       "<table border=\"1\" class=\"dataframe\">\n",
       "  <thead>\n",
       "    <tr style=\"text-align: right;\">\n",
       "      <th></th>\n",
       "      <th>month</th>\n",
       "      <th>year</th>\n",
       "      <th>mean</th>\n",
       "      <th>var</th>\n",
       "    </tr>\n",
       "  </thead>\n",
       "  <tbody>\n",
       "    <tr>\n",
       "      <th>0</th>\n",
       "      <td>1</td>\n",
       "      <td>1918</td>\n",
       "      <td>4.232258</td>\n",
       "      <td>78.093591</td>\n",
       "    </tr>\n",
       "    <tr>\n",
       "      <th>1</th>\n",
       "      <td>1</td>\n",
       "      <td>1919</td>\n",
       "      <td>0.767742</td>\n",
       "      <td>10.995591</td>\n",
       "    </tr>\n",
       "    <tr>\n",
       "      <th>2</th>\n",
       "      <td>1</td>\n",
       "      <td>1920</td>\n",
       "      <td>1.345161</td>\n",
       "      <td>8.365892</td>\n",
       "    </tr>\n",
       "    <tr>\n",
       "      <th>3</th>\n",
       "      <td>1</td>\n",
       "      <td>1921</td>\n",
       "      <td>0.187097</td>\n",
       "      <td>0.435161</td>\n",
       "    </tr>\n",
       "    <tr>\n",
       "      <th>4</th>\n",
       "      <td>1</td>\n",
       "      <td>1922</td>\n",
       "      <td>4.219355</td>\n",
       "      <td>49.952946</td>\n",
       "    </tr>\n",
       "    <tr>\n",
       "      <th>...</th>\n",
       "      <td>...</td>\n",
       "      <td>...</td>\n",
       "      <td>...</td>\n",
       "      <td>...</td>\n",
       "    </tr>\n",
       "    <tr>\n",
       "      <th>743</th>\n",
       "      <td>12</td>\n",
       "      <td>1980</td>\n",
       "      <td>7.319355</td>\n",
       "      <td>237.284946</td>\n",
       "    </tr>\n",
       "    <tr>\n",
       "      <th>744</th>\n",
       "      <td>12</td>\n",
       "      <td>1981</td>\n",
       "      <td>1.335484</td>\n",
       "      <td>27.492366</td>\n",
       "    </tr>\n",
       "    <tr>\n",
       "      <th>745</th>\n",
       "      <td>12</td>\n",
       "      <td>1982</td>\n",
       "      <td>0.180645</td>\n",
       "      <td>0.589613</td>\n",
       "    </tr>\n",
       "    <tr>\n",
       "      <th>746</th>\n",
       "      <td>12</td>\n",
       "      <td>1983</td>\n",
       "      <td>2.160870</td>\n",
       "      <td>21.989763</td>\n",
       "    </tr>\n",
       "    <tr>\n",
       "      <th>747</th>\n",
       "      <td>12</td>\n",
       "      <td>1984</td>\n",
       "      <td>1.877419</td>\n",
       "      <td>17.169140</td>\n",
       "    </tr>\n",
       "  </tbody>\n",
       "</table>\n",
       "<p>748 rows × 4 columns</p>\n",
       "</div>"
      ],
      "text/plain": [
       "     month  year      mean         var\n",
       "0        1  1918  4.232258   78.093591\n",
       "1        1  1919  0.767742   10.995591\n",
       "2        1  1920  1.345161    8.365892\n",
       "3        1  1921  0.187097    0.435161\n",
       "4        1  1922  4.219355   49.952946\n",
       "..     ...   ...       ...         ...\n",
       "743     12  1980  7.319355  237.284946\n",
       "744     12  1981  1.335484   27.492366\n",
       "745     12  1982  0.180645    0.589613\n",
       "746     12  1983  2.160870   21.989763\n",
       "747     12  1984  1.877419   17.169140\n",
       "\n",
       "[748 rows x 4 columns]"
      ]
     },
     "execution_count": 31,
     "metadata": {},
     "output_type": "execute_result"
    }
   ],
   "source": [
    "# get daily average rainfall and variance for Oct and Nov\n",
    "df['date'] = pd.to_datetime(df['Observation time UTC'])\n",
    "df['month'] = df['date'].dt.month\n",
    "df['year'] = df['date'].dt.year\n",
    "monthly_stats = df.groupby(['month','year'])['Rainfall [mm]'].agg(['mean', 'var']).reset_index()\n",
    "monthly_stats"
   ]
  },
  {
   "cell_type": "code",
   "execution_count": 34,
   "id": "a671a016",
   "metadata": {},
   "outputs": [
    {
     "data": {
      "text/plain": [
       "0    1.675488\n",
       "Name: mean, dtype: float64"
      ]
     },
     "execution_count": 34,
     "metadata": {},
     "output_type": "execute_result"
    }
   ],
   "source": [
    "monthly_stats[monthly_stats['month'].isin([10, 11])].agg(['mean']).reset_index()['mean']"
   ]
  },
  {
   "cell_type": "code",
   "execution_count": 33,
   "id": "26649b02",
   "metadata": {},
   "outputs": [
    {
     "data": {
      "text/plain": [
       "0    1.348465\n",
       "Name: mean, dtype: float64"
      ]
     },
     "execution_count": 33,
     "metadata": {},
     "output_type": "execute_result"
    }
   ],
   "source": [
    "monthly_stats[monthly_stats['month'].isin([10, 11])].agg(['var']).reset_index()['mean']"
   ]
  },
  {
   "cell_type": "code",
   "execution_count": 36,
   "id": "b2e1beee",
   "metadata": {},
   "outputs": [
    {
     "data": {
      "text/plain": [
       "0.20120481316488092"
      ]
     },
     "execution_count": 36,
     "metadata": {},
     "output_type": "execute_result"
    }
   ],
   "source": [
    "(0.25/1.675488) * 1.348465"
   ]
  },
  {
   "cell_type": "code",
   "execution_count": null,
   "id": "3cd83b0a",
   "metadata": {},
   "outputs": [],
   "source": []
  }
 ],
 "metadata": {
  "kernelspec": {
   "display_name": "pakipaki-01 (3.12.9)",
   "language": "python",
   "name": "python3"
  },
  "language_info": {
   "codemirror_mode": {
    "name": "ipython",
    "version": 3
   },
   "file_extension": ".py",
   "mimetype": "text/x-python",
   "name": "python",
   "nbconvert_exporter": "python",
   "pygments_lexer": "ipython3",
   "version": "3.12.9"
  }
 },
 "nbformat": 4,
 "nbformat_minor": 5
}
